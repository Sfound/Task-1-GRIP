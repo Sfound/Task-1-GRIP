{
 "cells": [
  {
   "cell_type": "markdown",
   "id": "dc45a9f8",
   "metadata": {},
   "source": [
    "# Data Science and Buisness Analytics Internship\n",
    "\n"
   ]
  },
  {
   "cell_type": "markdown",
   "id": "f52b0f61",
   "metadata": {},
   "source": [
    "\n",
    "### Task 1 : Prediction using supervised Machine Learning\n",
    "    "
   ]
  },
  {
   "cell_type": "markdown",
   "id": "e7d7bc99",
   "metadata": {},
   "source": [
    "\n",
    "### -->> This Task focuses on predicting the score obtained by a student based on the number of study hour . For the  prediction , Linear Regression model under supervised ML is employed . "
   ]
  },
  {
   "cell_type": "raw",
   "id": "1c25f56a",
   "metadata": {},
   "source": [
    "This is based on data source given by Grip : http://bit.ly/w-data"
   ]
  },
  {
   "cell_type": "raw",
   "id": "78a7323c",
   "metadata": {},
   "source": [
    "presented by : Shailendra Malviya || shailendramalviya521@gmail.com"
   ]
  },
  {
   "cell_type": "code",
   "execution_count": 1,
   "id": "306ba8b6",
   "metadata": {},
   "outputs": [],
   "source": [
    "#importing the essential Libraries \n",
    "\n",
    "import pandas as pd\n",
    "import numpy as np\n",
    "import matplotlib.pyplot as plt\n"
   ]
  },
  {
   "cell_type": "code",
   "execution_count": 2,
   "id": "c07a99f2",
   "metadata": {},
   "outputs": [],
   "source": [
    "#importing the dataset for applying ML \n",
    "studentDB = pd.read_csv(\"student study data.csv\")"
   ]
  },
  {
   "cell_type": "code",
   "execution_count": 3,
   "id": "634e5925",
   "metadata": {},
   "outputs": [
    {
     "data": {
      "text/html": [
       "<div>\n",
       "<style scoped>\n",
       "    .dataframe tbody tr th:only-of-type {\n",
       "        vertical-align: middle;\n",
       "    }\n",
       "\n",
       "    .dataframe tbody tr th {\n",
       "        vertical-align: top;\n",
       "    }\n",
       "\n",
       "    .dataframe thead th {\n",
       "        text-align: right;\n",
       "    }\n",
       "</style>\n",
       "<table border=\"1\" class=\"dataframe\">\n",
       "  <thead>\n",
       "    <tr style=\"text-align: right;\">\n",
       "      <th></th>\n",
       "      <th>Hours</th>\n",
       "      <th>Scores</th>\n",
       "    </tr>\n",
       "  </thead>\n",
       "  <tbody>\n",
       "    <tr>\n",
       "      <th>0</th>\n",
       "      <td>2.5</td>\n",
       "      <td>21</td>\n",
       "    </tr>\n",
       "    <tr>\n",
       "      <th>1</th>\n",
       "      <td>5.1</td>\n",
       "      <td>47</td>\n",
       "    </tr>\n",
       "    <tr>\n",
       "      <th>2</th>\n",
       "      <td>3.2</td>\n",
       "      <td>27</td>\n",
       "    </tr>\n",
       "    <tr>\n",
       "      <th>3</th>\n",
       "      <td>8.5</td>\n",
       "      <td>75</td>\n",
       "    </tr>\n",
       "    <tr>\n",
       "      <th>4</th>\n",
       "      <td>3.5</td>\n",
       "      <td>30</td>\n",
       "    </tr>\n",
       "  </tbody>\n",
       "</table>\n",
       "</div>"
      ],
      "text/plain": [
       "   Hours  Scores\n",
       "0    2.5      21\n",
       "1    5.1      47\n",
       "2    3.2      27\n",
       "3    8.5      75\n",
       "4    3.5      30"
      ]
     },
     "execution_count": 3,
     "metadata": {},
     "output_type": "execute_result"
    }
   ],
   "source": [
    "# visit the first 5 rows of dataset\n",
    "studentDB.head()"
   ]
  },
  {
   "cell_type": "code",
   "execution_count": 4,
   "id": "dc4b0f0b",
   "metadata": {},
   "outputs": [
    {
     "data": {
      "text/plain": [
       "(25, 2)"
      ]
     },
     "execution_count": 4,
     "metadata": {},
     "output_type": "execute_result"
    }
   ],
   "source": [
    "# shape of dataset\n",
    "studentDB.shape"
   ]
  },
  {
   "cell_type": "code",
   "execution_count": 5,
   "id": "3f3f1f88",
   "metadata": {},
   "outputs": [
    {
     "data": {
      "text/plain": [
       "50"
      ]
     },
     "execution_count": 5,
     "metadata": {},
     "output_type": "execute_result"
    }
   ],
   "source": [
    "#size of dataset\n",
    "studentDB.size"
   ]
  },
  {
   "cell_type": "code",
   "execution_count": 6,
   "id": "6f49f788",
   "metadata": {},
   "outputs": [],
   "source": [
    "# breaking the dataset into X & Y \n",
    "X = studentDB.iloc[:,0:1].values\n",
    "Y = studentDB.iloc[:,1].values"
   ]
  },
  {
   "cell_type": "code",
   "execution_count": 7,
   "id": "9a397503",
   "metadata": {},
   "outputs": [
    {
     "data": {
      "text/plain": [
       "array([5.1])"
      ]
     },
     "execution_count": 7,
     "metadata": {},
     "output_type": "execute_result"
    }
   ],
   "source": [
    "X[1]"
   ]
  },
  {
   "cell_type": "code",
   "execution_count": 8,
   "id": "5133b04c",
   "metadata": {},
   "outputs": [
    {
     "data": {
      "text/plain": [
       "((25, 1), (25,))"
      ]
     },
     "execution_count": 8,
     "metadata": {},
     "output_type": "execute_result"
    }
   ],
   "source": [
    "# checking the shape of array \n",
    "X.shape,Y.shape"
   ]
  },
  {
   "cell_type": "code",
   "execution_count": 9,
   "id": "c7d8ab22",
   "metadata": {},
   "outputs": [
    {
     "data": {
      "image/png": "[encoded data removed]",
      "text/plain": [
       "<Figure size 432x288 with 1 Axes>"
      ]
     },
     "metadata": {
      "needs_background": "light"
     },
     "output_type": "display_data"
    }
   ],
   "source": [
    "# view of graph through the matplotlib library\n",
    "plt.scatter(X,Y,label='Data Obtained')\n",
    "plt.title(\"Data - Hours study vs Marks obtained\")\n",
    "plt.xlabel(\"Number of study hours\")\n",
    "plt.ylabel(\"Score Achieved\")\n",
    "plt.show()"
   ]
  },
  {
   "cell_type": "markdown",
   "id": "8c141bec",
   "metadata": {},
   "source": [
    "## performing ML"
   ]
  },
  {
   "cell_type": "code",
   "execution_count": 10,
   "id": "e72c034d",
   "metadata": {},
   "outputs": [],
   "source": [
    "# importing sklearn library to perform Machine Learning \n",
    "from sklearn.linear_model import LinearRegression"
   ]
  },
  {
   "cell_type": "code",
   "execution_count": 11,
   "id": "fd1e8724",
   "metadata": {},
   "outputs": [],
   "source": [
    "# making models of LinearRegression\n",
    "reg = LinearRegression(normalize=True)"
   ]
  },
  {
   "cell_type": "code",
   "execution_count": 12,
   "id": "55f0f446",
   "metadata": {},
   "outputs": [
    {
     "data": {
      "text/plain": [
       "LinearRegression(normalize=True)"
      ]
     },
     "execution_count": 12,
     "metadata": {},
     "output_type": "execute_result"
    }
   ],
   "source": [
    "# fitting the hours and scores in the LinearRegression Model\n",
    "reg.fit(X,Y)"
   ]
  },
  {
   "cell_type": "code",
   "execution_count": 13,
   "id": "907cd90b",
   "metadata": {},
   "outputs": [
    {
     "data": {
      "text/plain": [
       "array([9.77580339])"
      ]
     },
     "execution_count": 13,
     "metadata": {},
     "output_type": "execute_result"
    }
   ],
   "source": [
    "# calculating the slope of the model/dataset\n",
    "slope = reg.coef_\n",
    "slope"
   ]
  },
  {
   "cell_type": "code",
   "execution_count": 14,
   "id": "9e296529",
   "metadata": {},
   "outputs": [
    {
     "data": {
      "text/plain": [
       "2.4836734053731746"
      ]
     },
     "execution_count": 14,
     "metadata": {},
     "output_type": "execute_result"
    }
   ],
   "source": [
    "# calculating the intercept of the model/dataset\n",
    "intercept = reg.intercept_\n",
    "intercept"
   ]
  },
  {
   "cell_type": "code",
   "execution_count": 15,
   "id": "b0e4e14e",
   "metadata": {},
   "outputs": [
    {
     "data": {
      "text/plain": [
       "array([[26.92318188],\n",
       "       [52.3402707 ],\n",
       "       [33.76624426],\n",
       "       [85.57800223],\n",
       "       [36.69898527],\n",
       "       [17.14737849],\n",
       "       [92.4210646 ],\n",
       "       [56.25059205],\n",
       "       [83.62284155],\n",
       "       [28.87834256],\n",
       "       [77.75735951],\n",
       "       [60.16091341],\n",
       "       [46.47478866],\n",
       "       [34.74382459],\n",
       "       [13.23705714],\n",
       "       [89.48832358],\n",
       "       [26.92318188],\n",
       "       [21.05769985],\n",
       "       [62.11607409],\n",
       "       [74.8246185 ],\n",
       "       [28.87834256],\n",
       "       [49.40752968],\n",
       "       [39.63172629],\n",
       "       [69.9367168 ],\n",
       "       [78.73493985]])"
      ]
     },
     "execution_count": 15,
     "metadata": {},
     "output_type": "execute_result"
    }
   ],
   "source": [
    "# predicting the study hours through the \n",
    "predict_score = X*slope+intercept\n",
    "predict_score"
   ]
  },
  {
   "cell_type": "code",
   "execution_count": 16,
   "id": "9422e01a",
   "metadata": {},
   "outputs": [
    {
     "data": {
      "image/png": "[encoded data removed]",
      "text/plain": [
       "<Figure size 432x288 with 1 Axes>"
      ]
     },
     "metadata": {
      "needs_background": "light"
     },
     "output_type": "display_data"
    }
   ],
   "source": [
    "plt.title(\"Prediction of Hours studied vs Marks scored using Linear Regression\")\n",
    "plt.xlabel(\"Number of study hours\")\n",
    "plt.ylabel(\"Score Achived\")\n",
    "plt.scatter(X,Y,label='Data Obtained')\n",
    "plt.plot(X,predict_score,color=\"red\")\n",
    "plt.show()"
   ]
  },
  {
   "cell_type": "code",
   "execution_count": 17,
   "id": "58ef57ab",
   "metadata": {},
   "outputs": [],
   "source": [
    "#Testing the dataset on the given problem statement\n",
    "\n",
    "def LR_Prediction(hour):\n",
    "    score = hour*slope+intercept\n",
    "    return score"
   ]
  },
  {
   "cell_type": "markdown",
   "id": "4ffb2c51",
   "metadata": {},
   "source": [
    "### Problem statement : what will be the predicted score , if the student studies for 9.25 hours/day ?"
   ]
  },
  {
   "cell_type": "code",
   "execution_count": 18,
   "id": "6b1c8462",
   "metadata": {},
   "outputs": [
    {
     "name": "stdout",
     "output_type": "stream",
     "text": [
      "Given. that the student studies 9.25 hour/day , the predicion of score achived if 92.9099\n"
     ]
    }
   ],
   "source": [
    "\n",
    "predict = LR_Prediction(9.25)\n",
    "print(\"Given. that the student studies 9.25 hour/day , the predicion of score achived if %.4f\"%predict)"
   ]
  },
  {
   "cell_type": "code",
   "execution_count": null,
   "id": "3a6036d0",
   "metadata": {},
   "outputs": [],
   "source": []
  },
  {
   "cell_type": "code",
   "execution_count": 19,
   "id": "5b66eb78",
   "metadata": {},
   "outputs": [
    {
     "name": "stdout",
     "output_type": "stream",
     "text": [
      "Mean of Absolute Error :  46.468\n"
     ]
    }
   ],
   "source": [
    "from sklearn.metrics import mean_absolute_error\n",
    "print(\"Mean of Absolute Error : \",mean_absolute_error(X,predict_score))"
   ]
  },
  {
   "cell_type": "code",
   "execution_count": 16,
   "id": "35837deb",
   "metadata": {},
   "outputs": [],
   "source": [
    "y_pred = reg.predict(X)\n"
   ]
  },
  {
   "cell_type": "code",
   "execution_count": 17,
   "id": "d917e446",
   "metadata": {},
   "outputs": [
    {
     "data": {
      "image/png": "[encoded data removed]",
      "text/plain": [
       "<Figure size 432x288 with 1 Axes>"
      ]
     },
     "metadata": {
      "needs_background": "light"
     },
     "output_type": "display_data"
    }
   ],
   "source": [
    "plt.scatter(X,Y)\n",
    "plt.plot(X,y_pred)\n",
    "plt.show()"
   ]
  },
  {
   "cell_type": "code",
   "execution_count": 29,
   "id": "09ad0cfb",
   "metadata": {},
   "outputs": [
    {
     "data": {
      "text/plain": [
       "array([52.3402707])"
      ]
     },
     "execution_count": 29,
     "metadata": {},
     "output_type": "execute_result"
    }
   ],
   "source": [
    "reg.predict(X[1].reshape(-1,1))"
   ]
  },
  {
   "cell_type": "code",
   "execution_count": 30,
   "id": "4a06747c",
   "metadata": {},
   "outputs": [
    {
     "data": {
      "text/plain": [
       "0.9529481969048356"
      ]
     },
     "execution_count": 30,
     "metadata": {},
     "output_type": "execute_result"
    }
   ],
   "source": [
    "reg.score(X,Y)"
   ]
  },
  {
   "cell_type": "code",
   "execution_count": 32,
   "id": "079a0692",
   "metadata": {},
   "outputs": [
    {
     "data": {
      "text/plain": [
       "array([13.23705714])"
      ]
     },
     "execution_count": 32,
     "metadata": {},
     "output_type": "execute_result"
    }
   ],
   "source": [
    "reg.predict(np.array([1.1]).reshape(-1,1))"
   ]
  }
 ],
 "metadata": {
  "kernelspec": {
   "display_name": "Python 3 (ipykernel)",
   "language": "python",
   "name": "python3"
  },
  "language_info": {
   "codemirror_mode": {
    "name": "ipython",
    "version": 3
   },
   "file_extension": ".py",
   "mimetype": "text/x-python",
   "name": "python",
   "nbconvert_exporter": "python",
   "pygments_lexer": "ipython3",
   "version": "3.9.6"
  }
 },
 "nbformat": 4,
 "nbformat_minor": 5
}
